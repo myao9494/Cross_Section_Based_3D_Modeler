{
 "cells": [
  {
   "cell_type": "code",
   "execution_count": 2,
   "metadata": {
    "ExecuteTime": {
     "end_time": "2018-12-18T09:51:46.078194Z",
     "start_time": "2018-12-18T09:51:45.051877Z"
    }
   },
   "outputs": [],
   "source": [
    "! code ."
   ]
  },
  {
   "cell_type": "markdown",
   "metadata": {},
   "source": [
    "## おまじない\n",
    "下記のようにモジュールをインポートすると、記録した内容をそのまま使える"
   ]
  },
  {
   "cell_type": "code",
   "execution_count": 1,
   "metadata": {
    "ExecuteTime": {
     "end_time": "2018-12-18T12:09:13.464890Z",
     "start_time": "2018-12-18T12:09:13.319008Z"
    }
   },
   "outputs": [],
   "source": [
    "import FreeCAD as App"
   ]
  },
  {
   "cell_type": "code",
   "execution_count": 2,
   "metadata": {
    "ExecuteTime": {
     "end_time": "2018-12-18T12:09:14.157169Z",
     "start_time": "2018-12-18T12:09:14.140181Z"
    }
   },
   "outputs": [
    {
     "data": {
      "text/plain": [
       "<Document object at 000001C059A95D20>"
      ]
     },
     "execution_count": 2,
     "metadata": {},
     "output_type": "execute_result"
    }
   ],
   "source": [
    "App.newDocument(\"Unnamed\")"
   ]
  },
  {
   "cell_type": "code",
   "execution_count": 3,
   "metadata": {
    "ExecuteTime": {
     "end_time": "2018-12-18T12:09:15.988902Z",
     "start_time": "2018-12-18T12:09:15.984904Z"
    }
   },
   "outputs": [],
   "source": [
    "li=[[0,0,0],[100,100,100],[300,400,500]]"
   ]
  },
  {
   "cell_type": "code",
   "execution_count": 4,
   "metadata": {
    "ExecuteTime": {
     "end_time": "2018-12-18T12:09:17.484829Z",
     "start_time": "2018-12-18T12:09:17.480834Z"
    }
   },
   "outputs": [],
   "source": [
    "points = []\n",
    "for i in li:\n",
    "    points.append(FreeCAD.Vector(i[0],i[1],i[2]))\n",
    "    "
   ]
  },
  {
   "cell_type": "code",
   "execution_count": 4,
   "metadata": {
    "ExecuteTime": {
     "end_time": "2018-12-18T09:55:52.715874Z",
     "start_time": "2018-12-18T09:55:52.708879Z"
    }
   },
   "outputs": [],
   "source": [
    "# points=[FreeCAD.Vector(-3.2007410526275635,-0.13219580054283162,0.0),\n",
    "#         FreeCAD.Vector(-1.998961091041565,1.0775961875915525,0.0),\n",
    "#         FreeCAD.Vector(-0.20430277287960044,1.149703025817871,0.0),\n",
    "#         FreeCAD.Vector(1.7826404571533203,0.5167655348777772,0.0),\n",
    "#         FreeCAD.Vector(2.279376268386841,-0.7971808314323424,0.0),\n",
    "#         FreeCAD.Vector(-1.269881010055542,-1.6945099830627441,0.0)]\n"
   ]
  },
  {
   "cell_type": "code",
   "execution_count": 5,
   "metadata": {
    "ExecuteTime": {
     "end_time": "2018-12-18T12:09:21.115495Z",
     "start_time": "2018-12-18T12:09:21.108497Z"
    }
   },
   "outputs": [
    {
     "data": {
      "text/plain": [
       "[Vector (0.0, 0.0, 0.0),\n",
       " Vector (100.0, 100.0, 100.0),\n",
       " Vector (300.0, 400.0, 500.0)]"
      ]
     },
     "execution_count": 5,
     "metadata": {},
     "output_type": "execute_result"
    }
   ],
   "source": [
    "points"
   ]
  },
  {
   "cell_type": "code",
   "execution_count": 6,
   "metadata": {
    "ExecuteTime": {
     "end_time": "2018-12-18T12:09:27.586357Z",
     "start_time": "2018-12-18T12:09:27.465736Z"
    }
   },
   "outputs": [],
   "source": [
    "import Draft\n",
    "line = Draft.makeWire(points,closed=True,face=True,support=None)\n",
    "Draft.autogroup(line)"
   ]
  },
  {
   "cell_type": "code",
   "execution_count": 7,
   "metadata": {
    "ExecuteTime": {
     "end_time": "2018-12-18T12:09:28.305120Z",
     "start_time": "2018-12-18T12:09:28.294127Z"
    }
   },
   "outputs": [],
   "source": [
    "App.getDocument(\"Unnamed\").saveAs(\"test.FCStd\")"
   ]
  },
  {
   "cell_type": "code",
   "execution_count": null,
   "metadata": {},
   "outputs": [],
   "source": []
  }
 ],
 "metadata": {
  "kernelspec": {
   "display_name": "Python 3",
   "language": "python",
   "name": "python3"
  },
  "nbTranslate": {
   "displayLangs": [
    "ja",
    "en"
   ],
   "hotkey": "alt-t",
   "langInMainMenu": true,
   "sourceLang": "en",
   "targetLang": "ja",
   "useGoogleTranslate": true
  },
  "toc": {
   "base_numbering": 1,
   "nav_menu": {},
   "number_sections": true,
   "sideBar": true,
   "skip_h1_title": false,
   "title_cell": "Table of Contents",
   "title_sidebar": "Contents",
   "toc_cell": false,
   "toc_position": {},
   "toc_section_display": true,
   "toc_window_display": false
  },
  "varInspector": {
   "cols": {
    "lenName": 16,
    "lenType": 16,
    "lenVar": 40
   },
   "kernels_config": {
    "python": {
     "delete_cmd_postfix": "",
     "delete_cmd_prefix": "del ",
     "library": "var_list.py",
     "varRefreshCmd": "print(var_dic_list())"
    },
    "r": {
     "delete_cmd_postfix": ") ",
     "delete_cmd_prefix": "rm(",
     "library": "var_list.r",
     "varRefreshCmd": "cat(var_dic_list()) "
    }
   },
   "types_to_exclude": [
    "module",
    "function",
    "builtin_function_or_method",
    "instance",
    "_Feature"
   ],
   "window_display": false
  }
 },
 "nbformat": 4,
 "nbformat_minor": 2
}
