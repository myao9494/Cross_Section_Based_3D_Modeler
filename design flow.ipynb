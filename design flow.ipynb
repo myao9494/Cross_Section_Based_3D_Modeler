{
 "cells": [
  {
   "cell_type": "code",
   "execution_count": null,
   "metadata": {
    "ExecuteTime": {
     "end_time": "2019-03-24T03:25:45.885389Z",
     "start_time": "2019-03-24T03:25:45.592929Z"
    }
   },
   "outputs": [],
   "source": [
    "! explorer ."
   ]
  },
  {
   "cell_type": "code",
   "execution_count": null,
   "metadata": {
    "ExecuteTime": {
     "end_time": "2019-03-24T05:18:07.694801Z",
     "start_time": "2019-03-24T05:18:06.575379Z"
    }
   },
   "outputs": [],
   "source": [
    "! code ."
   ]
  },
  {
   "cell_type": "markdown",
   "metadata": {},
   "source": [
    "## create geometory\n",
    "using https://github.com/sintefmath/Splipy"
   ]
  },
  {
   "cell_type": "markdown",
   "metadata": {},
   "source": [
    "### create pandas data"
   ]
  },
  {
   "cell_type": "markdown",
   "metadata": {},
   "source": [
    "### create curve(2d surface →　path)\n",
    "using trimesh,shapely"
   ]
  },
  {
   "cell_type": "markdown",
   "metadata": {},
   "source": [
    "### create 3d surface\n",
    "using Splipy"
   ]
  },
  {
   "cell_type": "markdown",
   "metadata": {},
   "source": [
    "## modify"
   ]
  },
  {
   "cell_type": "markdown",
   "metadata": {},
   "source": [
    "## stl \n",
    "using trimesh,shapely"
   ]
  },
  {
   "cell_type": "markdown",
   "metadata": {},
   "source": [
    "- https://trimsh.org/examples/section.html"
   ]
  },
  {
   "cell_type": "code",
   "execution_count": null,
   "metadata": {
    "ExecuteTime": {
     "end_time": "2019-03-24T05:17:45.939280Z",
     "start_time": "2019-03-24T05:17:44.268987Z"
    }
   },
   "outputs": [],
   "source": [
    "import trimesh\n",
    "import numpy as np\n",
    "from shapely.geometry import LineString\n",
    "%pylab inline"
   ]
  },
  {
   "cell_type": "code",
   "execution_count": null,
   "metadata": {
    "ExecuteTime": {
     "end_time": "2019-03-24T05:34:29.215850Z",
     "start_time": "2019-03-24T05:34:28.870694Z"
    }
   },
   "outputs": [],
   "source": [
    "# load the mesh from filename\n",
    "# file objects are also supported\n",
    "mesh = trimesh.load_mesh('test_file/test.stl')"
   ]
  },
  {
   "cell_type": "code",
   "execution_count": null,
   "metadata": {
    "ExecuteTime": {
     "end_time": "2019-03-24T05:34:34.815835Z",
     "start_time": "2019-03-24T05:34:34.802842Z"
    }
   },
   "outputs": [],
   "source": [
    "mesh"
   ]
  },
  {
   "cell_type": "code",
   "execution_count": null,
   "metadata": {
    "ExecuteTime": {
     "end_time": "2019-03-24T05:40:11.554018Z",
     "start_time": "2019-03-24T05:40:11.521037Z"
    }
   },
   "outputs": [],
   "source": [
    "mesh.show()"
   ]
  },
  {
   "cell_type": "code",
   "execution_count": null,
   "metadata": {
    "ExecuteTime": {
     "end_time": "2019-03-24T04:44:55.899951Z",
     "start_time": "2019-03-24T04:44:55.884963Z"
    }
   },
   "outputs": [],
   "source": [
    "# get a single cross section of the mesh\n",
    "slice = mesh.section(plane_origin=mesh.centroid, \n",
    "                     plane_normal=[1,0,0])"
   ]
  },
  {
   "cell_type": "code",
   "execution_count": null,
   "metadata": {
    "ExecuteTime": {
     "end_time": "2019-03-24T05:46:23.218836Z",
     "start_time": "2019-03-24T05:46:19.524110Z"
    },
    "scrolled": true
   },
   "outputs": [],
   "source": [
    "for i in range(30):\n",
    "    x= i-3.69\n",
    "    print(x)\n",
    "    slice = mesh.section(plane_origin=[i-3.69,0,0], \n",
    "                         plane_normal=[1,0,0])\n",
    "    # we can move the 3D curve to a Path2D object easily\n",
    "    slice_2D, to_3D = slice.to_planar()\n",
    "    slice_2D.show()"
   ]
  },
  {
   "cell_type": "code",
   "execution_count": null,
   "metadata": {
    "ExecuteTime": {
     "end_time": "2019-03-24T05:39:45.190831Z",
     "start_time": "2019-03-24T05:39:45.178840Z"
    }
   },
   "outputs": [],
   "source": [
    "# the section will be in the original mesh frame\n",
    "slice.show()"
   ]
  },
  {
   "cell_type": "code",
   "execution_count": null,
   "metadata": {
    "ExecuteTime": {
     "end_time": "2019-03-24T04:46:14.476920Z",
     "start_time": "2019-03-24T04:46:14.313022Z"
    },
    "scrolled": true
   },
   "outputs": [],
   "source": [
    "# we can move the 3D curve to a Path2D object easily\n",
    "slice_2D, to_3D = slice.to_planar()\n",
    "slice_2D.show()"
   ]
  },
  {
   "cell_type": "code",
   "execution_count": null,
   "metadata": {
    "ExecuteTime": {
     "end_time": "2019-03-24T05:47:13.377541Z",
     "start_time": "2019-03-24T05:47:13.371543Z"
    }
   },
   "outputs": [],
   "source": [
    "aaa=  slice_2D.to_dict()"
   ]
  },
  {
   "cell_type": "code",
   "execution_count": null,
   "metadata": {
    "ExecuteTime": {
     "end_time": "2019-03-24T05:47:13.822945Z",
     "start_time": "2019-03-24T05:47:13.801958Z"
    }
   },
   "outputs": [],
   "source": [
    "aaa"
   ]
  },
  {
   "cell_type": "code",
   "execution_count": null,
   "metadata": {
    "ExecuteTime": {
     "end_time": "2019-03-24T04:48:07.705220Z",
     "start_time": "2019-03-24T04:48:07.699218Z"
    }
   },
   "outputs": [],
   "source": [
    "# if we wanted to take a bunch of parallel slices, like for a 3D printer\n",
    "# we can do that easily with the section_multiplane method\n",
    "# we're going to slice the mesh into evenly spaced chunks along z\n",
    "# this takes the (2,3) bounding box and slices it into [minz, maxz]\n",
    "z_extents = mesh.bounds[:,2]\n",
    "# slice every .125 model units (eg, inches)\n",
    "z_levels  = np.arange(*z_extents, step=.125)"
   ]
  },
  {
   "cell_type": "code",
   "execution_count": null,
   "metadata": {
    "ExecuteTime": {
     "end_time": "2019-03-24T04:48:08.364963Z",
     "start_time": "2019-03-24T04:48:08.199066Z"
    }
   },
   "outputs": [],
   "source": [
    "# find a bunch of parallel cross sections\n",
    "sections = mesh.section_multiplane(plane_origin=mesh.bounds[0], \n",
    "                                   plane_normal=[0,0,1], \n",
    "                                   heights=z_levels)\n",
    "sections"
   ]
  },
  {
   "cell_type": "code",
   "execution_count": null,
   "metadata": {
    "ExecuteTime": {
     "end_time": "2019-03-24T04:48:09.865079Z",
     "start_time": "2019-03-24T04:48:09.584253Z"
    }
   },
   "outputs": [],
   "source": [
    "# summing the array of Path2D objects will put all of the curves\n",
    "# into one Path2D object, which we can plot easily\n",
    "combined = np.sum(sections[6:])\n",
    "combined.show()"
   ]
  },
  {
   "cell_type": "code",
   "execution_count": null,
   "metadata": {
    "ExecuteTime": {
     "end_time": "2019-03-24T04:48:09.983064Z",
     "start_time": "2019-03-24T04:48:09.974070Z"
    }
   },
   "outputs": [],
   "source": [
    "# if we want to intersect a line with this 2D polygon, we can use shapely methods\n",
    "polygon = slice_2D.polygons_full[0]\n",
    "# intersect line with one of the polygons\n",
    "hits = polygon.intersection(LineString([[-4,-1], [3,0]]))\n",
    "# check what class the intersection returned\n",
    "hits.__class__"
   ]
  },
  {
   "cell_type": "code",
   "execution_count": null,
   "metadata": {
    "ExecuteTime": {
     "end_time": "2019-03-24T04:48:11.624518Z",
     "start_time": "2019-03-24T04:48:11.618521Z"
    }
   },
   "outputs": [],
   "source": [
    "hits"
   ]
  },
  {
   "cell_type": "code",
   "execution_count": null,
   "metadata": {
    "ExecuteTime": {
     "end_time": "2019-03-24T04:48:12.332580Z",
     "start_time": "2019-03-24T04:48:12.158691Z"
    }
   },
   "outputs": [],
   "source": [
    "plt.plot(*hits.xy, color='r')"
   ]
  },
  {
   "cell_type": "code",
   "execution_count": null,
   "metadata": {
    "ExecuteTime": {
     "end_time": "2019-03-24T04:48:12.955341Z",
     "start_time": "2019-03-24T04:48:12.801442Z"
    }
   },
   "outputs": [],
   "source": [
    "slice_2D.show()"
   ]
  },
  {
   "cell_type": "code",
   "execution_count": null,
   "metadata": {
    "ExecuteTime": {
     "end_time": "2019-03-24T04:48:15.153350Z",
     "start_time": "2019-03-24T04:48:14.731611Z"
    }
   },
   "outputs": [],
   "source": [
    "# the medial axis is available for closed Path2D objects\n",
    "(slice_2D + slice_2D.medial_axis()).show()"
   ]
  },
  {
   "cell_type": "code",
   "execution_count": null,
   "metadata": {
    "ExecuteTime": {
     "end_time": "2019-03-24T03:36:45.350409Z",
     "start_time": "2019-03-24T03:36:43.200652Z"
    }
   },
   "outputs": [],
   "source": [
    "from stl import mesh\n",
    "from mpl_toolkits import mplot3d\n",
    "from matplotlib import pyplot\n",
    "\n",
    "# Create a new plot\n",
    "figure = pyplot.figure()\n",
    "axes = mplot3d.Axes3D(figure)\n",
    "\n",
    "# Load the STL files and add the vectors to the plot\n",
    "# your_mesh = mesh.Mesh.from_file('tests/stl_binary/HalfDonut.stl')\n",
    "your_mesh = mesh.Mesh.from_file('test_file/test.stl')\n",
    "axes.add_collection3d(mplot3d.art3d.Poly3DCollection(your_mesh.vectors))\n",
    "\n",
    "# Auto scale to the mesh size\n",
    "scale = your_mesh.points.flatten(-1)\n",
    "axes.auto_scale_xyz(scale, scale, scale)\n",
    "\n",
    "# Show the plot to the screen\n",
    "pyplot.show()"
   ]
  },
  {
   "cell_type": "code",
   "execution_count": null,
   "metadata": {
    "ExecuteTime": {
     "end_time": "2019-03-24T03:39:03.847441Z",
     "start_time": "2019-03-24T03:39:03.841446Z"
    }
   },
   "outputs": [],
   "source": [
    "axes."
   ]
  },
  {
   "cell_type": "markdown",
   "metadata": {},
   "source": [
    "## factory"
   ]
  },
  {
   "cell_type": "code",
   "execution_count": 3,
   "metadata": {
    "ExecuteTime": {
     "end_time": "2019-03-25T12:03:13.655812Z",
     "start_time": "2019-03-25T12:03:13.583691Z"
    }
   },
   "outputs": [],
   "source": [
    "from splipy import *\n",
    "from numpy import pi,cos,sin,transpose,array,sqrt\n",
    "from splipy.io import STL\n",
    "from splipy import surface_factory\n",
    "\n",
    "# define a parametric representation of the trefoil knot (to be sampled)\n",
    "def trefoil(u):\n",
    "    x = [41*cos(u) - 18*sin(  u) -  83*cos(2*u) - 83*sin(2*u) - 11*cos(3*u) + 27*sin(3*u),\n",
    "       36*cos(u) + 27*sin(  u) - 113*cos(2*u) + 30*sin(2*u) + 11*cos(3*u) - 27*sin(3*u),\n",
    "       45*sin(u) - 30*cos(2*u) + 113*sin(2*u) - 11*cos(3*u) + 27*sin(3*u)]\n",
    "    return transpose(array(x))\n",
    "\n",
    "knot_curve   = curve_factory.fit(trefoil, 0, 2*pi) # adaptive curve fit of trefoil knot\n",
    "square_curve = 15 * curve_factory.n_gon(4)         # square cross-section\n"
   ]
  },
  {
   "cell_type": "code",
   "execution_count": 4,
   "metadata": {
    "ExecuteTime": {
     "end_time": "2019-03-25T12:03:14.814715Z",
     "start_time": "2019-03-25T12:03:14.705121Z"
    }
   },
   "outputs": [],
   "source": [
    "my_surface   = surface_factory.sweep(knot_curve, square_curve)  # sweep out the surface"
   ]
  },
  {
   "cell_type": "code",
   "execution_count": 5,
   "metadata": {
    "ExecuteTime": {
     "end_time": "2019-03-25T12:03:22.149977Z",
     "start_time": "2019-03-25T12:03:22.034052Z"
    }
   },
   "outputs": [],
   "source": [
    "# STL files are tessellated linear triangles. View with i.e. meshlab\n",
    "with STL('torus_.stl') as my_file:\n",
    "    my_file.write(my_surface, n=(50, 150)) # specify resolution of 50x150 evaluation pt"
   ]
  },
  {
   "cell_type": "code",
   "execution_count": null,
   "metadata": {
    "ExecuteTime": {
     "end_time": "2019-03-25T11:47:25.010699Z",
     "start_time": "2019-03-25T11:47:25.004703Z"
    }
   },
   "outputs": [],
   "source": [
    "square_curve"
   ]
  },
  {
   "cell_type": "code",
   "execution_count": null,
   "metadata": {},
   "outputs": [],
   "source": []
  },
  {
   "cell_type": "code",
   "execution_count": null,
   "metadata": {},
   "outputs": [],
   "source": []
  },
  {
   "cell_type": "code",
   "execution_count": null,
   "metadata": {},
   "outputs": [],
   "source": []
  },
  {
   "cell_type": "code",
   "execution_count": null,
   "metadata": {
    "ExecuteTime": {
     "end_time": "2019-03-25T11:41:50.797236Z",
     "start_time": "2019-03-25T11:41:50.513936Z"
    }
   },
   "outputs": [],
   "source": [
    "! explorer ."
   ]
  },
  {
   "cell_type": "code",
   "execution_count": 1,
   "metadata": {
    "ExecuteTime": {
     "end_time": "2019-03-25T12:00:10.587687Z",
     "start_time": "2019-03-25T12:00:10.262737Z"
    }
   },
   "outputs": [],
   "source": [
    "from splipy.io import STL\n",
    "from splipy import surface_factory\n",
    "\n",
    "# create a NURBS torus\n",
    "my_torus = surface_factory.torus(minor_r=1, major_r=4)\n",
    "\n",
    "# STL files are tessellated linear triangles. View with i.e. meshlab\n",
    "with STL('torus.stl') as my_file:\n",
    "    my_file.write(my_torus, n=(50, 150)) # specify resolution of 50x150 evaluation pt"
   ]
  },
  {
   "cell_type": "code",
   "execution_count": 2,
   "metadata": {
    "ExecuteTime": {
     "end_time": "2019-03-25T12:02:36.174122Z",
     "start_time": "2019-03-25T12:02:36.151137Z"
    }
   },
   "outputs": [
    {
     "data": {
      "text/plain": [
       "p=3, [-1.57079633  0.          0.          1.57079633  1.57079633  3.14159265\n",
       "  3.14159265  4.71238898  4.71238898  6.28318531  6.28318531  7.85398163], C0-periodic\n",
       "p=3, [-1.57079633  0.          0.          1.57079633  1.57079633  3.14159265\n",
       "  3.14159265  4.71238898  4.71238898  6.28318531  6.28318531  7.85398163], C0-periodic\n",
       "[5. 0. 0. 1.]\n",
       "[3.53553391 0.         0.70710678 0.70710678]\n",
       "[4. 0. 1. 1.]\n",
       "[2.12132034 0.         0.70710678 0.70710678]\n",
       "[3. 0. 0. 1.]\n",
       "[ 2.12132034  0.         -0.70710678  0.70710678]\n",
       "[ 4.  0. -1.  1.]\n",
       "[ 3.53553391  0.         -0.70710678  0.70710678]\n",
       "[3.53553391 3.53553391 0.         0.70710678]\n",
       "[2.5 2.5 0.5 0.5]\n",
       "[2.82842712 2.82842712 0.70710678 0.70710678]\n",
       "[1.5 1.5 0.5 0.5]\n",
       "[2.12132034 2.12132034 0.         0.70710678]\n",
       "[ 1.5  1.5 -0.5  0.5]\n",
       "[ 2.82842712  2.82842712 -0.70710678  0.70710678]\n",
       "[ 2.5  2.5 -0.5  0.5]\n",
       "[-8.8817842e-16  5.0000000e+00  0.0000000e+00  1.0000000e+00]\n",
       "[-4.44089210e-16  3.53553391e+00  7.07106781e-01  7.07106781e-01]\n",
       "[-8.8817842e-16  4.0000000e+00  1.0000000e+00  1.0000000e+00]\n",
       "[-4.44089210e-16  2.12132034e+00  7.07106781e-01  7.07106781e-01]\n",
       "[-4.4408921e-16  3.0000000e+00  0.0000000e+00  1.0000000e+00]\n",
       "[-4.44089210e-16  2.12132034e+00 -7.07106781e-01  7.07106781e-01]\n",
       "[-8.8817842e-16  4.0000000e+00 -1.0000000e+00  1.0000000e+00]\n",
       "[-4.44089210e-16  3.53553391e+00 -7.07106781e-01  7.07106781e-01]\n",
       "[-3.53553391  3.53553391  0.          0.70710678]\n",
       "[-2.5  2.5  0.5  0.5]\n",
       "[-2.82842712  2.82842712  0.70710678  0.70710678]\n",
       "[-1.5  1.5  0.5  0.5]\n",
       "[-2.12132034  2.12132034  0.          0.70710678]\n",
       "[-1.5  1.5 -0.5  0.5]\n",
       "[-2.82842712  2.82842712 -0.70710678  0.70710678]\n",
       "[-2.5  2.5 -0.5  0.5]\n",
       "[-5.00000000e+00 -1.33226763e-15  0.00000000e+00  1.00000000e+00]\n",
       "[-3.53553391e+00 -1.33226763e-15  7.07106781e-01  7.07106781e-01]\n",
       "[-4.00000000e+00 -1.11022302e-15  1.00000000e+00  1.00000000e+00]\n",
       "[-2.12132034e+00 -4.44089210e-16  7.07106781e-01  7.07106781e-01]\n",
       "[-3.00000000e+00 -1.33226763e-15  0.00000000e+00  1.00000000e+00]\n",
       "[-2.12132034e+00 -4.44089210e-16 -7.07106781e-01  7.07106781e-01]\n",
       "[-4.00000000e+00 -1.11022302e-15 -1.00000000e+00  1.00000000e+00]\n",
       "[-3.53553391e+00 -1.33226763e-15 -7.07106781e-01  7.07106781e-01]\n",
       "[-3.53553391 -3.53553391  0.          0.70710678]\n",
       "[-2.5 -2.5  0.5  0.5]\n",
       "[-2.82842712 -2.82842712  0.70710678  0.70710678]\n",
       "[-1.5 -1.5  0.5  0.5]\n",
       "[-2.12132034 -2.12132034  0.          0.70710678]\n",
       "[-1.5 -1.5 -0.5  0.5]\n",
       "[-2.82842712 -2.82842712 -0.70710678  0.70710678]\n",
       "[-2.5 -2.5 -0.5  0.5]\n",
       "[ 2.22044605e-15 -5.00000000e+00  0.00000000e+00  1.00000000e+00]\n",
       "[ 2.22044605e-15 -3.53553391e+00  7.07106781e-01  7.07106781e-01]\n",
       "[ 2.22044605e-15 -4.00000000e+00  1.00000000e+00  1.00000000e+00]\n",
       "[ 6.66133815e-16 -2.12132034e+00  7.07106781e-01  7.07106781e-01]\n",
       "[ 1.77635684e-15 -3.00000000e+00  0.00000000e+00  1.00000000e+00]\n",
       "[ 6.66133815e-16 -2.12132034e+00 -7.07106781e-01  7.07106781e-01]\n",
       "[ 2.22044605e-15 -4.00000000e+00 -1.00000000e+00  1.00000000e+00]\n",
       "[ 2.22044605e-15 -3.53553391e+00 -7.07106781e-01  7.07106781e-01]\n",
       "[ 3.53553391 -3.53553391  0.          0.70710678]\n",
       "[ 2.5 -2.5  0.5  0.5]\n",
       "[ 2.82842712 -2.82842712  0.70710678  0.70710678]\n",
       "[ 1.5 -1.5  0.5  0.5]\n",
       "[ 2.12132034 -2.12132034  0.          0.70710678]\n",
       "[ 1.5 -1.5 -0.5  0.5]\n",
       "[ 2.82842712 -2.82842712 -0.70710678  0.70710678]\n",
       "[ 2.5 -2.5 -0.5  0.5]"
      ]
     },
     "execution_count": 2,
     "metadata": {},
     "output_type": "execute_result"
    }
   ],
   "source": [
    "my_torus"
   ]
  },
  {
   "cell_type": "code",
   "execution_count": null,
   "metadata": {},
   "outputs": [],
   "source": []
  }
 ],
 "metadata": {
  "kernelspec": {
   "display_name": "Python 3",
   "language": "python",
   "name": "python3"
  },
  "language_info": {
   "codemirror_mode": {
    "name": "ipython",
    "version": 3
   },
   "file_extension": ".py",
   "mimetype": "text/x-python",
   "name": "python",
   "nbconvert_exporter": "python",
   "pygments_lexer": "ipython3",
   "version": "3.7.1"
  },
  "nbTranslate": {
   "displayLangs": [
    "ja"
   ],
   "hotkey": "alt-t",
   "langInMainMenu": true,
   "sourceLang": "en",
   "targetLang": "ja",
   "useGoogleTranslate": true
  },
  "toc": {
   "base_numbering": 1,
   "nav_menu": {},
   "number_sections": true,
   "sideBar": true,
   "skip_h1_title": false,
   "title_cell": "Table of Contents",
   "title_sidebar": "Contents",
   "toc_cell": false,
   "toc_position": {
    "height": "748px",
    "left": "43px",
    "top": "110px",
    "width": "371.594px"
   },
   "toc_section_display": true,
   "toc_window_display": true
  },
  "varInspector": {
   "cols": {
    "lenName": 16,
    "lenType": 16,
    "lenVar": 40
   },
   "kernels_config": {
    "python": {
     "delete_cmd_postfix": "",
     "delete_cmd_prefix": "del ",
     "library": "var_list.py",
     "varRefreshCmd": "print(var_dic_list())"
    },
    "r": {
     "delete_cmd_postfix": ") ",
     "delete_cmd_prefix": "rm(",
     "library": "var_list.r",
     "varRefreshCmd": "cat(var_dic_list()) "
    }
   },
   "types_to_exclude": [
    "module",
    "function",
    "builtin_function_or_method",
    "instance",
    "_Feature"
   ],
   "window_display": false
  }
 },
 "nbformat": 4,
 "nbformat_minor": 2
}
