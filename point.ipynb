{
 "cells": [
  {
   "cell_type": "code",
   "execution_count": 1,
   "metadata": {
    "ExecuteTime": {
     "end_time": "2018-12-23T12:20:42.080231Z",
     "start_time": "2018-12-23T12:20:42.027264Z"
    }
   },
   "outputs": [],
   "source": [
    "from shapely.geometry import Point\n"
   ]
  },
  {
   "cell_type": "code",
   "execution_count": 2,
   "metadata": {
    "ExecuteTime": {
     "end_time": "2018-12-23T12:20:42.951633Z",
     "start_time": "2018-12-23T12:20:42.935642Z"
    }
   },
   "outputs": [
    {
     "data": {
      "image/svg+xml": [
       "<svg xmlns=\"http://www.w3.org/2000/svg\" xmlns:xlink=\"http://www.w3.org/1999/xlink\" width=\"100.0\" height=\"100.0\" viewBox=\"-10.8 -10.8 21.6 21.6\" preserveAspectRatio=\"xMinYMin meet\"><g transform=\"matrix(1,0,0,-1,0,0.0)\"><path fill-rule=\"evenodd\" fill=\"#66cc99\" stroke=\"#555555\" stroke-width=\"0.43200000000000005\" opacity=\"0.6\" d=\"M 10.0,0.0 L 9.95184726672197,-0.980171403295605 L 9.807852804032306,-1.9509032201612808 L 9.56940335732209,-2.902846772544621 L 9.23879532511287,-3.826834323650894 L 8.819212643483553,-4.713967368259972 L 8.314696123025456,-5.555702330196017 L 7.730104533627374,-6.343932841636449 L 7.071067811865481,-7.07106781186547 L 6.343932841636462,-7.7301045336273635 L 5.555702330196031,-8.314696123025447 L 4.713967368259986,-8.819212643483546 L 3.8268343236509086,-9.238795325112862 L 2.902846772544636,-9.569403357322084 L 1.9509032201612964,-9.807852804032303 L 0.9801714032956209,-9.951847266721966 L 1.6155445744325867e-14,-10.0 L -0.9801714032955888,-9.95184726672197 L -1.9509032201612646,-9.807852804032308 L -2.902846772544605,-9.569403357322095 L -3.8268343236508784,-9.238795325112875 L -4.713967368259957,-8.81921264348356 L -5.555702330196005,-8.314696123025463 L -6.343932841636439,-7.730104533627382 L -7.071067811865462,-7.071067811865488 L -7.730104533627359,-6.343932841636468 L -8.314696123025444,-5.555702330196036 L -8.819212643483542,-4.71396736825999 L -9.238795325112862,-3.8268343236509113 L -9.569403357322084,-2.9028467725446365 L -9.807852804032303,-1.9509032201612948 L -9.951847266721968,-0.9801714032956171 L -10.0,-1.0106430996148605e-14 L -9.95184726672197,0.980171403295597 L -9.807852804032306,1.950903220161275 L -9.569403357322091,2.902846772544617 L -9.23879532511287,3.826834323650892 L -8.819212643483553,4.713967368259972 L -8.314696123025454,5.55570233019602 L -7.730104533627371,6.343932841636453 L -7.071067811865477,7.071067811865475 L -6.343932841636459,7.730104533627367 L -5.555702330196029,8.314696123025447 L -4.713967368259987,8.819212643483546 L -3.8268343236509117,9.238795325112862 L -2.902846772544641,9.569403357322084 L -1.9509032201613041,9.8078528040323 L -0.980171403295631,9.951847266721966 L -2.848232278972479e-14,10.0 L 0.9801714032955743,9.951847266721972 L 1.9509032201612482,9.807852804032311 L 2.902846772544587,9.569403357322098 L 3.826834323650859,9.238795325112884 L 4.713967368259937,8.81921264348357 L 5.555702330195982,8.31469612302548 L 6.3439328416364145,7.730104533627403 L 7.0710678118654355,7.071067811865515 L 7.730104533627332,6.343932841636501 L 8.314696123025417,5.555702330196074 L 8.81921264348352,4.713967368260034 L 9.238795325112841,3.826834323650961 L 9.569403357322066,2.9028467725446925 L 9.80785280403229,1.950903220161357 L 9.95184726672196,0.9801714032956848 L 10.0,8.238535137130597e-14 L 10.0,0.0 z\" /></g></svg>"
      ],
      "text/plain": [
       "<shapely.geometry.polygon.Polygon at 0x1b61f55a908>"
      ]
     },
     "execution_count": 2,
     "metadata": {},
     "output_type": "execute_result"
    }
   ],
   "source": [
    "patch = Point(0.0, 0.0).buffer(10.0)\n",
    "patch"
   ]
  },
  {
   "cell_type": "code",
   "execution_count": 3,
   "metadata": {
    "ExecuteTime": {
     "end_time": "2018-12-23T12:20:44.214141Z",
     "start_time": "2018-12-23T12:20:44.208146Z"
    }
   },
   "outputs": [
    {
     "data": {
      "text/plain": [
       "313.65484905459385"
      ]
     },
     "execution_count": 3,
     "metadata": {},
     "output_type": "execute_result"
    }
   ],
   "source": [
    "patch.area\n",
    "313.65484905459385"
   ]
  },
  {
   "cell_type": "code",
   "execution_count": null,
   "metadata": {},
   "outputs": [],
   "source": []
  },
  {
   "cell_type": "markdown",
   "metadata": {},
   "source": [
    "## Drawing Boundaries In Python\n",
    "http://blog.thehumangeo.com/2014/05/12/drawing-boundaries-in-python/"
   ]
  },
  {
   "cell_type": "markdown",
   "metadata": {},
   "source": [
    "Boundaries point python"
   ]
  },
  {
   "cell_type": "markdown",
   "metadata": {},
   "source": [
    "https://stackoverflow.com/questions/44685052/boundary-points-from-a-set-of-coordinates"
   ]
  },
  {
   "cell_type": "code",
   "execution_count": null,
   "metadata": {},
   "outputs": [],
   "source": [
    "from scipy.spatial import ConvexHull 3D"
   ]
  },
  {
   "cell_type": "code",
   "execution_count": null,
   "metadata": {},
   "outputs": [],
   "source": [
    "https://stackoverflow.com/questions/27270477/3d-convex-hull-from-point-cloud"
   ]
  },
  {
   "cell_type": "code",
   "execution_count": null,
   "metadata": {},
   "outputs": [],
   "source": []
  },
  {
   "cell_type": "code",
   "execution_count": 1,
   "metadata": {
    "ExecuteTime": {
     "end_time": "2018-12-22T06:52:21.869888Z",
     "start_time": "2018-12-22T06:52:21.837909Z"
    }
   },
   "outputs": [],
   "source": [
    "from scipy.spatial import ConvexHull\n",
    "points = np.random.rand(30, 2)   # 30 random points in 2-D\n",
    "hull = ConvexHull(points)"
   ]
  },
  {
   "cell_type": "code",
   "execution_count": 2,
   "metadata": {
    "ExecuteTime": {
     "end_time": "2018-12-22T06:52:39.723857Z",
     "start_time": "2018-12-22T06:52:39.288304Z"
    }
   },
   "outputs": [],
   "source": [
    "import matplotlib.pyplot as plt"
   ]
  },
  {
   "cell_type": "code",
   "execution_count": 3,
   "metadata": {
    "ExecuteTime": {
     "end_time": "2018-12-22T06:52:46.009975Z",
     "start_time": "2018-12-22T06:52:45.257626Z"
    }
   },
   "outputs": [
    {
     "data": {
      "text/plain": [
       "[<matplotlib.lines.Line2D at 0x2141289dda0>]"
      ]
     },
     "execution_count": 3,
     "metadata": {},
     "output_type": "execute_result"
    },
    {
     "data": {
      "image/png": "[encoded data removed]",
      "text/plain": [
       "<Figure size 432x288 with 1 Axes>"
      ]
     },
     "metadata": {},
     "output_type": "display_data"
    }
   ],
   "source": [
    "plt.plot(points[:,0], points[:,1], 'o')"
   ]
  },
  {
   "cell_type": "code",
   "execution_count": 4,
   "metadata": {
    "ExecuteTime": {
     "end_time": "2018-12-22T06:53:08.611661Z",
     "start_time": "2018-12-22T06:53:08.460019Z"
    }
   },
   "outputs": [
    {
     "data": {
      "image/png": "[encoded data removed]",
      "text/plain": [
       "<Figure size 432x288 with 1 Axes>"
      ]
     },
     "metadata": {},
     "output_type": "display_data"
    }
   ],
   "source": [
    "for simplex in hull.simplices:\n",
    "    plt.plot(points[simplex, 0], points[simplex, 1], 'k-')"
   ]
  },
  {
   "cell_type": "code",
   "execution_count": 6,
   "metadata": {
    "ExecuteTime": {
     "end_time": "2018-12-22T06:53:47.958403Z",
     "start_time": "2018-12-22T06:53:47.951408Z"
    }
   },
   "outputs": [
    {
     "data": {
      "text/plain": [
       "array([0.98708519, 0.9831879 ])"
      ]
     },
     "execution_count": 6,
     "metadata": {},
     "output_type": "execute_result"
    }
   ],
   "source": [
    "points[simplex, 0]"
   ]
  },
  {
   "cell_type": "code",
   "execution_count": null,
   "metadata": {},
   "outputs": [],
   "source": []
  },
  {
   "cell_type": "code",
   "execution_count": 5,
   "metadata": {
    "ExecuteTime": {
     "end_time": "2018-12-22T06:24:59.519494Z",
     "start_time": "2018-12-22T06:24:59.480519Z"
    }
   },
   "outputs": [
    {
     "ename": "ImportError",
     "evalue": "DLL load failed: 指定されたモジュールが見つかりません。",
     "output_type": "error",
     "traceback": [
      "\u001b[1;31m---------------------------------------------------------------------------\u001b[0m",
      "\u001b[1;31mImportError\u001b[0m                               Traceback (most recent call last)",
      "\u001b[1;32m<ipython-input-5-4c762272c079>\u001b[0m in \u001b[0;36m<module>\u001b[1;34m()\u001b[0m\n\u001b[1;32m----> 1\u001b[1;33m \u001b[1;32mimport\u001b[0m \u001b[0mfiona\u001b[0m\u001b[1;33m\u001b[0m\u001b[0m\n\u001b[0m",
      "\u001b[1;32m~\\Anaconda3\\lib\\site-packages\\fiona\\__init__.py\u001b[0m in \u001b[0;36m<module>\u001b[1;34m()\u001b[0m\n\u001b[0;32m     67\u001b[0m \u001b[1;32mfrom\u001b[0m \u001b[0msix\u001b[0m \u001b[1;32mimport\u001b[0m \u001b[0mstring_types\u001b[0m\u001b[1;33m\u001b[0m\u001b[0m\n\u001b[0;32m     68\u001b[0m \u001b[1;33m\u001b[0m\u001b[0m\n\u001b[1;32m---> 69\u001b[1;33m \u001b[1;32mfrom\u001b[0m \u001b[0mfiona\u001b[0m\u001b[1;33m.\u001b[0m\u001b[0mcollection\u001b[0m \u001b[1;32mimport\u001b[0m \u001b[0mCollection\u001b[0m\u001b[1;33m,\u001b[0m \u001b[0mBytesCollection\u001b[0m\u001b[1;33m,\u001b[0m \u001b[0mvsi_path\u001b[0m\u001b[1;33m\u001b[0m\u001b[0m\n\u001b[0m\u001b[0;32m     70\u001b[0m \u001b[1;32mfrom\u001b[0m \u001b[0mfiona\u001b[0m\u001b[1;33m.\u001b[0m\u001b[0m_drivers\u001b[0m \u001b[1;32mimport\u001b[0m \u001b[0mdriver_count\u001b[0m\u001b[1;33m,\u001b[0m \u001b[0mGDALEnv\u001b[0m\u001b[1;33m\u001b[0m\u001b[0m\n\u001b[0;32m     71\u001b[0m \u001b[1;32mfrom\u001b[0m \u001b[0mfiona\u001b[0m\u001b[1;33m.\u001b[0m\u001b[0mdrvsupport\u001b[0m \u001b[1;32mimport\u001b[0m \u001b[0msupported_drivers\u001b[0m\u001b[1;33m\u001b[0m\u001b[0m\n",
      "\u001b[1;32m~\\Anaconda3\\lib\\site-packages\\fiona\\collection.py\u001b[0m in \u001b[0;36m<module>\u001b[1;34m()\u001b[0m\n\u001b[0;32m      7\u001b[0m \u001b[1;33m\u001b[0m\u001b[0m\n\u001b[0;32m      8\u001b[0m \u001b[1;32mfrom\u001b[0m \u001b[0mfiona\u001b[0m \u001b[1;32mimport\u001b[0m \u001b[0mcompat\u001b[0m\u001b[1;33m\u001b[0m\u001b[0m\n\u001b[1;32m----> 9\u001b[1;33m \u001b[1;32mfrom\u001b[0m \u001b[0mfiona\u001b[0m\u001b[1;33m.\u001b[0m\u001b[0mogrext\u001b[0m \u001b[1;32mimport\u001b[0m \u001b[0mIterator\u001b[0m\u001b[1;33m,\u001b[0m \u001b[0mItemsIterator\u001b[0m\u001b[1;33m,\u001b[0m \u001b[0mKeysIterator\u001b[0m\u001b[1;33m\u001b[0m\u001b[0m\n\u001b[0m\u001b[0;32m     10\u001b[0m \u001b[1;32mfrom\u001b[0m \u001b[0mfiona\u001b[0m\u001b[1;33m.\u001b[0m\u001b[0mogrext\u001b[0m \u001b[1;32mimport\u001b[0m \u001b[0mSession\u001b[0m\u001b[1;33m,\u001b[0m \u001b[0mWritingSession\u001b[0m\u001b[1;33m\u001b[0m\u001b[0m\n\u001b[0;32m     11\u001b[0m from fiona.ogrext import (\n",
      "\u001b[1;31mImportError\u001b[0m: DLL load failed: 指定されたモジュールが見つかりません。"
     ]
    }
   ],
   "source": [
    "import fiona"
   ]
  },
  {
   "cell_type": "code",
   "execution_count": 2,
   "metadata": {
    "ExecuteTime": {
     "end_time": "2018-12-23T12:14:43.497485Z",
     "start_time": "2018-12-23T12:14:43.449517Z"
    }
   },
   "outputs": [],
   "source": [
    "import shapely.geometry as geometry"
   ]
  },
  {
   "cell_type": "code",
   "execution_count": 3,
   "metadata": {
    "ExecuteTime": {
     "end_time": "2018-12-22T05:59:11.007244Z",
     "start_time": "2018-12-22T05:59:10.946282Z"
    }
   },
   "outputs": [
    {
     "ename": "NameError",
     "evalue": "name 'fiona' is not defined",
     "output_type": "error",
     "traceback": [
      "\u001b[1;31m---------------------------------------------------------------------------\u001b[0m",
      "\u001b[1;31mNameError\u001b[0m                                 Traceback (most recent call last)",
      "\u001b[1;32m<ipython-input-3-85e98382f2da>\u001b[0m in \u001b[0;36m<module>\u001b[1;34m()\u001b[0m\n\u001b[0;32m      1\u001b[0m \u001b[1;32mimport\u001b[0m \u001b[0mshapely\u001b[0m\u001b[1;33m.\u001b[0m\u001b[0mgeometry\u001b[0m \u001b[1;32mas\u001b[0m \u001b[0mgeometry\u001b[0m\u001b[1;33m\u001b[0m\u001b[0m\n\u001b[0;32m      2\u001b[0m \u001b[0minput_shapefile\u001b[0m \u001b[1;33m=\u001b[0m \u001b[1;34m'concave_demo_points.shp'\u001b[0m\u001b[1;33m\u001b[0m\u001b[0m\n\u001b[1;32m----> 3\u001b[1;33m \u001b[0mshapefile\u001b[0m \u001b[1;33m=\u001b[0m \u001b[0mfiona\u001b[0m\u001b[1;33m.\u001b[0m\u001b[0mopen\u001b[0m\u001b[1;33m(\u001b[0m\u001b[0minput_shapefile\u001b[0m\u001b[1;33m)\u001b[0m\u001b[1;33m\u001b[0m\u001b[0m\n\u001b[0m\u001b[0;32m      4\u001b[0m points = [geometry.shape(point['geometry'])\n\u001b[0;32m      5\u001b[0m           for point in shapefile]\n",
      "\u001b[1;31mNameError\u001b[0m: name 'fiona' is not defined"
     ]
    }
   ],
   "source": [
    "import shapely.geometry as geometry\n",
    "input_shapefile = 'concave_demo_points.shp'\n",
    "shapefile = fiona.open(input_shapefile)\n",
    "points = [geometry.shape(point['geometry'])\n",
    "          for point in shapefile]"
   ]
  },
  {
   "cell_type": "code",
   "execution_count": null,
   "metadata": {},
   "outputs": [],
   "source": []
  }
 ],
 "metadata": {
  "kernelspec": {
   "display_name": "Python 3",
   "language": "python",
   "name": "python3"
  },
  "language_info": {
   "codemirror_mode": {
    "name": "ipython",
    "version": 3
   },
   "file_extension": ".py",
   "mimetype": "text/x-python",
   "name": "python",
   "nbconvert_exporter": "python",
   "pygments_lexer": "ipython3",
   "version": "3.6.5"
  },
  "nbTranslate": {
   "displayLangs": [
    "ja",
    "en"
   ],
   "hotkey": "alt-t",
   "langInMainMenu": true,
   "sourceLang": "en",
   "targetLang": "ja",
   "useGoogleTranslate": true
  },
  "toc": {
   "base_numbering": 1,
   "nav_menu": {},
   "number_sections": true,
   "sideBar": true,
   "skip_h1_title": false,
   "title_cell": "Table of Contents",
   "title_sidebar": "Contents",
   "toc_cell": false,
   "toc_position": {},
   "toc_section_display": true,
   "toc_window_display": false
  },
  "varInspector": {
   "cols": {
    "lenName": 16,
    "lenType": 16,
    "lenVar": 40
   },
   "kernels_config": {
    "python": {
     "delete_cmd_postfix": "",
     "delete_cmd_prefix": "del ",
     "library": "var_list.py",
     "varRefreshCmd": "print(var_dic_list())"
    },
    "r": {
     "delete_cmd_postfix": ") ",
     "delete_cmd_prefix": "rm(",
     "library": "var_list.r",
     "varRefreshCmd": "cat(var_dic_list()) "
    }
   },
   "types_to_exclude": [
    "module",
    "function",
    "builtin_function_or_method",
    "instance",
    "_Feature"
   ],
   "window_display": false
  }
 },
 "nbformat": 4,
 "nbformat_minor": 2
}
